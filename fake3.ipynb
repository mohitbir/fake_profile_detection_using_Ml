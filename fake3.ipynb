{
 "cells": [
  {
   "cell_type": "code",
   "execution_count": 1,
   "metadata": {},
   "outputs": [],
   "source": [
    "import numpy as np\n",
    "import matplotlib.pyplot as plt\n",
    "import gender_guesser.detector as gender\n",
    "import pandas as pd\n",
    "import math\n",
    "from sklearn.preprocessing import OneHotEncoder,LabelEncoder\n",
    "import matplotlib.pyplot as plt\n",
    "from sklearn.preprocessing import MinMaxScaler\n",
    "from sklearn.model_selection import train_test_split\n",
    "from sklearn.feature_selection import SelectFromModel\n",
    "from sklearn.feature_selection import mutual_info_classif\n",
    "import seaborn as sns\n",
    "from sklearn.metrics import accuracy_score,recall_score,confusion_matrix\n",
    "from sklearn.neighbors import KNeighborsClassifier\n",
    "from sklearn.tree import DecisionTreeClassifier\n",
    "from sklearn.ensemble import RandomForestClassifier\n",
    "from sklearn.linear_model import LogisticRegression, SGDClassifier\n",
    "from sklearn.naive_bayes import MultinomialNB\n",
    "from sklearn.svm import SVC"
   ]
  },
  {
   "cell_type": "code",
   "execution_count": 2,
   "metadata": {},
   "outputs": [],
   "source": [
    "def read_datasets():\n",
    "    \"\"\" Reads users profile from csv files \"\"\"\n",
    "    genuine_users = pd.read_csv(\"data/users.csv\")\n",
    "    fake_users = pd.read_csv(\"data/fusers.csv\")\n",
    "    # print genuine_users.columns\n",
    "    # print genuine_users.describe()\n",
    "    #print fake_users.describe()\n",
    "    x=pd.concat([genuine_users,fake_users])   \n",
    "    y=len(fake_users)*[0] + len(genuine_users)*[1]\n",
    "    return x,y"
   ]
  },
  {
   "cell_type": "code",
   "execution_count": 3,
   "metadata": {},
   "outputs": [],
   "source": [
    "def predict_sex(name):\n",
    "    sex_predictor = gender.Detector(case_sensitive=False)\n",
    "    first_name= name.str.split(' ').str.get(0)\n",
    "    sex= first_name.apply(sex_predictor.get_gender)\n",
    "    sex_dict={'female':-2,'mostly_female':-1,'unknown':0,'mostly_male':1,'male':2,'andy':3}\n",
    "    sex_code = sex.map(sex_dict).astype(int)\n",
    "    return sex_code"
   ]
  },
  {
   "cell_type": "code",
   "execution_count": 4,
   "metadata": {},
   "outputs": [],
   "source": [
    "def extract_features(x):\n",
    "    lang_list = list(enumerate(np.unique(x['lang'])))   \n",
    "    lang_dict = { name : i for i, name in lang_list }             \n",
    "    x.loc[:,'lang_code'] = x['lang'].map( lambda x: lang_dict[x]).astype(int)    \n",
    "    x.loc[:,'sex_code']=predict_sex(x['name'])\n",
    "    feature_columns_to_use = ['statuses_count','followers_count','friends_count','favourites_count','listed_count','sex_code','lang_code']\n",
    "    x=x.loc[:,feature_columns_to_use]\n",
    "    return x"
   ]
  },
  {
   "cell_type": "code",
   "execution_count": 5,
   "metadata": {},
   "outputs": [],
   "source": [
    "x,y=read_datasets()"
   ]
  },
  {
   "cell_type": "code",
   "execution_count": 6,
   "metadata": {},
   "outputs": [
    {
     "name": "stdout",
     "output_type": "stream",
     "text": [
      "Index(['statuses_count', 'followers_count', 'friends_count',\n",
      "       'favourites_count', 'listed_count', 'sex_code', 'lang_code'],\n",
      "      dtype='object')\n",
      "       statuses_count  followers_count  friends_count  favourites_count  \\\n",
      "count     2818.000000      2818.000000    2818.000000       2818.000000   \n",
      "mean      1672.198368       371.105039     395.363023        234.541164   \n",
      "std       4884.669157      8022.631339     465.694322       1445.847248   \n",
      "min          0.000000         0.000000       0.000000          0.000000   \n",
      "25%         35.000000        17.000000     168.000000          0.000000   \n",
      "50%         77.000000        26.000000     306.000000          0.000000   \n",
      "75%       1087.750000       111.000000     519.000000         37.000000   \n",
      "max      79876.000000    408372.000000   12773.000000      44349.000000   \n",
      "\n",
      "       listed_count     sex_code    lang_code  \n",
      "count   2818.000000  2818.000000  2818.000000  \n",
      "mean       2.818666    -0.136977     2.851313  \n",
      "std       23.480430     1.738406     1.992950  \n",
      "min        0.000000    -2.000000     0.000000  \n",
      "25%        0.000000    -2.000000     1.000000  \n",
      "50%        0.000000     0.000000     1.000000  \n",
      "75%        1.000000     2.000000     5.000000  \n",
      "max      744.000000     3.000000     7.000000  \n"
     ]
    }
   ],
   "source": [
    "x=extract_features(x)\n",
    "print(x.columns)\n",
    "print(x.describe())"
   ]
  },
  {
   "cell_type": "code",
   "execution_count": 7,
   "metadata": {},
   "outputs": [],
   "source": [
    "x_train,x_test,y_train,y_test = train_test_split(x, y, test_size=0.20, random_state=44)"
   ]
  },
  {
   "cell_type": "code",
   "execution_count": null,
   "metadata": {},
   "outputs": [],
   "source": [
    "'''svc=SVC()\n",
    "svc.fit(X_train,y_train)\n",
    "pred=svc.predict(x_test)\n",
    "accuracy_score(y_test,pred)'''"
   ]
  },
  {
   "cell_type": "code",
   "execution_count": 8,
   "metadata": {},
   "outputs": [],
   "source": [
    "def cm(y_test,pred):\n",
    "    c=confusion_matrix(y_test, pred)\n",
    "    print(c)"
   ]
  },
  {
   "cell_type": "code",
   "execution_count": 10,
   "metadata": {},
   "outputs": [
    {
     "name": "stdout",
     "output_type": "stream",
     "text": [
      "model: KNN\n",
      "recall_score:0.91,accuracy_score:0.94\n",
      "[[261   7]\n",
      " [ 27 269]]\n",
      "\n",
      "\n",
      "model: Decision Tree\n",
      "recall_score:0.92,accuracy_score:0.90\n",
      "[[239  29]\n",
      " [ 25 271]]\n",
      "\n",
      "\n",
      "model: Random Forest\n",
      "recall_score:0.90,accuracy_score:0.94\n",
      "[[265   3]\n",
      " [ 30 266]]\n",
      "\n",
      "\n"
     ]
    },
    {
     "name": "stderr",
     "output_type": "stream",
     "text": [
      "C:\\Users\\HimanshuKumar\\Anaconda3\\lib\\site-packages\\sklearn\\ensemble\\forest.py:246: FutureWarning: The default value of n_estimators will change from 10 in version 0.20 to 100 in 0.22.\n",
      "  \"10 in version 0.20 to 100 in 0.22.\", FutureWarning)\n",
      "C:\\Users\\HimanshuKumar\\Anaconda3\\lib\\site-packages\\sklearn\\linear_model\\logistic.py:433: FutureWarning: Default solver will be changed to 'lbfgs' in 0.22. Specify a solver to silence this warning.\n",
      "  FutureWarning)\n",
      "C:\\Users\\HimanshuKumar\\Anaconda3\\lib\\site-packages\\sklearn\\linear_model\\stochastic_gradient.py:183: FutureWarning: max_iter and tol parameters have been added in SGDClassifier in 0.19. If max_iter is set but tol is left unset, the default value for tol in 0.19 and 0.20 will be None (which is equivalent to -infinity, so it has no effect) but will change in 0.21 to 1e-3. Specify tol to silence this warning.\n",
      "  FutureWarning)\n",
      "C:\\Users\\HimanshuKumar\\Anaconda3\\lib\\site-packages\\sklearn\\svm\\base.py:196: FutureWarning: The default value of gamma will change from 'auto' to 'scale' in version 0.22 to account better for unscaled features. Set gamma explicitly to 'auto' or 'scale' to avoid this warning.\n",
      "  \"avoid this warning.\", FutureWarning)\n"
     ]
    },
    {
     "name": "stdout",
     "output_type": "stream",
     "text": [
      "model: Logistic Regression\n",
      "recall_score:0.91,accuracy_score:0.90\n",
      "[[241  27]\n",
      " [ 28 268]]\n",
      "\n",
      "\n",
      "model: SGD Classifier\n",
      "recall_score:0.90,accuracy_score:0.89\n",
      "[[236  32]\n",
      " [ 31 265]]\n",
      "\n",
      "\n",
      "model: SVM Linear\n",
      "recall_score:0.58,accuracy_score:0.78\n",
      "[[268   0]\n",
      " [124 172]]\n",
      "\n",
      "\n"
     ]
    }
   ],
   "source": [
    "names = [\"KNN\", \"Decision Tree\", \"Random Forest\", \"Logistic Regression\", \"SGD Classifier\",\n",
    "         \"SVM Linear\"]\n",
    "\n",
    "classifiers = [\n",
    "    KNeighborsClassifier(),\n",
    "    DecisionTreeClassifier(),\n",
    "    RandomForestClassifier(),\n",
    "    LogisticRegression(),\n",
    "    SGDClassifier(max_iter = 100),\n",
    "    SVC()\n",
    "]\n",
    "\n",
    "models = zip(names, classifiers)\n",
    "\n",
    "for name, m in models:\n",
    "    \n",
    "    m.fit(x_train,y_train)\n",
    "    pred=m.predict(x_test)\n",
    "    r=recall_score(y_test,pred)\n",
    "    a=accuracy_score(y_test,pred)\n",
    "    print('model:',name)\n",
    "    print('recall_score:%.2f,accuracy_score:%.2f'%(r,a))\n",
    "    cm(y_test,m.predict(x_test))\n",
    "    print('\\n')"
   ]
  },
  {
   "cell_type": "code",
   "execution_count": null,
   "metadata": {},
   "outputs": [],
   "source": []
  }
 ],
 "metadata": {
  "kernelspec": {
   "display_name": "Python 3",
   "language": "python",
   "name": "python3"
  },
  "language_info": {
   "codemirror_mode": {
    "name": "ipython",
    "version": 3
   },
   "file_extension": ".py",
   "mimetype": "text/x-python",
   "name": "python",
   "nbconvert_exporter": "python",
   "pygments_lexer": "ipython3",
   "version": "3.6.8"
  }
 },
 "nbformat": 4,
 "nbformat_minor": 2
}
